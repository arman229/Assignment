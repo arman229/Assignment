{
 "cells": [
  {
   "cell_type": "markdown",
   "metadata": {},
   "source": [
    "# Python Programming Assignment 02\n",
    "\n",
    "## Instructions:\n",
    "Implement Python programs to accomplish the following tasks.\n",
    "\n",
    "**Hint**: When asking the user for input in your Python program, use the `input()` method. This method allows you to prompt the user for information and capture their response.\n"
   ]
  },
  {
   "cell_type": "markdown",
   "metadata": {},
   "source": [
    "### Question 1: Add two numbers\n",
    "Write a Python program that takes two integer inputs from the user and calculates their sum. The program should perform the following tasks:\n",
    "1. Prompt the user to enter the first number.\n",
    "2. Read the input and convert it to an integer.\n",
    "3. Prompt the user to enter the second number.\n",
    "4. Read the input and convert it to an integer.\n",
    "5. Calculate the sum of the two numbers.\n",
    "6. Print the total sum with an appropriate message."
   ]
  },
  {
   "cell_type": "code",
   "execution_count": 1,
   "metadata": {},
   "outputs": [
    {
     "name": "stdout",
     "output_type": "stream",
     "text": [
      "The total sum is 6\n"
     ]
    }
   ],
   "source": [
    "def add_two_numbers()->None:\n",
    "    num1 : int = int(input(\"Enter the first number: \"))\n",
    "    num2 : int = int(input(\"Enter the second number: \"))\n",
    "    total : int = num1 + num2\n",
    "    print(f\"The total sum is {total}\")\n",
    "add_two_numbers()    "
   ]
  },
  {
   "cell_type": "markdown",
   "metadata": {},
   "source": [
    "### Question 2: Agreement Boot\n",
    "Write a program which asks the user what their favorite animal is, and then always responds with \"My favorite animal is also ___!\" (the blank should be filled in with the user-inputted animal, of course).\n",
    "\n",
    "Here's a sample run of the program (user input is in bold italics - note the space between the prompt and the user input!):\n",
    "\n",
    "   ```\n",
    "   What's your favorite animal? cow\n",
    "\n",
    "   My favorite animal is also cow!\n",
    "   ```"
   ]
  },
  {
   "cell_type": "code",
   "execution_count": 3,
   "metadata": {},
   "outputs": [
    {
     "name": "stdout",
     "output_type": "stream",
     "text": [
      "My favorite animal is also crow!\n"
     ]
    }
   ],
   "source": [
    "def agreement_boot()->None:\n",
    "    favorite_animal : str  = input(\"What's your favorite animal? \")\n",
    "    print(f\"My favorite animal is also {favorite_animal}!\")\n",
    "    \n",
    "agreement_boot()    "
   ]
  },
  {
   "cell_type": "markdown",
   "metadata": {},
   "source": [
    "### Question 3: Fahrenheit to Celsius\n",
    "   Write a program which prompts the user for a temperature in Fahrenheit (this can be a number with decimal places!) and outputs the temperature converted to Celsius.\n",
    "\n",
    "   The Celsius scale is widely used to measure temperature, but places still use Fahrenheit. Fahrenheit is another unit for temperature, but the scale is different from Celsius -- for example, 0 degrees Celsius is 32 degrees Fahrenheit!\n",
    "\n",
    "   The equation you should use for converting from Fahrenheit to Celsius is the following:\n",
    "\n",
    "   degrees_celsius = (degrees_fahrenheit - 32) \\* 5.0/9.0\n",
    "\n",
    "   (Note. The .0 after the 5 and 9 matters in the line above!!!)\n",
    "\n",
    "   Here's a sample run of the program (user input is in bold italics):\n",
    "\n",
    "   ```\n",
    "   Enter temperature in Fahrenheit: 76\n",
    "\n",
    "   Temperature: 76.0F = 24.444444444444443C\n",
    "   ```"
   ]
  },
  {
   "cell_type": "code",
   "execution_count": 4,
   "metadata": {},
   "outputs": [
    {
     "name": "stdout",
     "output_type": "stream",
     "text": [
      "Temperature: 76.0F = 24.444444444444443C\n"
     ]
    }
   ],
   "source": [
    "def fahrenheit_to_celsius()->None:\n",
    "    fahrenheit : float = float(input(\"Enter temperature in Fahrenheit: \"))\n",
    "    celsius : float = (fahrenheit - 32) * 5.0/9.0\n",
    "    print(f\"Temperature: {fahrenheit}F = {celsius}C\")\n",
    "    \n",
    "fahrenheit_to_celsius()    "
   ]
  },
  {
   "cell_type": "markdown",
   "metadata": {},
   "source": [
    "### Question 4: Triangle Perimeters\n",
    "Prompt the user to enter the lengths of each side of a triangle and then calculate and print the perimeter of the triangle (the sum of all of the side lengths).\n",
    "\n",
    "   Here's a sample run of the program (user input is in bold italics):\n",
    "\n",
    "   ```\n",
    "   What is the length of side 1? 3\n",
    "\n",
    "   What is the length of side 2? 4\n",
    "\n",
    "   What is the length of side 3? 5.5\n",
    "\n",
    "   The perimeter of the triangle is 12.5\n",
    "   ```\n"
   ]
  },
  {
   "cell_type": "code",
   "execution_count": 5,
   "metadata": {},
   "outputs": [
    {
     "name": "stdout",
     "output_type": "stream",
     "text": [
      "The perimeter of the triangle is 12.5\n"
     ]
    }
   ],
   "source": [
    "def triangle_perimeters() -> None :\n",
    "    side1 : float = float(input(\"What is the length of side 1? \"))\n",
    "    side2 : float = float(input(\"What is the length of side 2? \"))\n",
    "    side3 : float = float(input(\"What is the length of side 3? \"))\n",
    "    perimeter : float = side1 + side2 + side3\n",
    "    print(f\"The perimeter of the triangle is {perimeter}\")\n",
    "triangle_perimeters()    "
   ]
  },
  {
   "cell_type": "markdown",
   "metadata": {},
   "source": [
    "### Question 5: Square Number\n",
    "Ask the user for a number and print its square (the product of the number times itself).\n",
    "   Here's a sample run of the program (user input is in bold italics):\n",
    "\n",
    "   ```\n",
    "   Type a number to see its square: 4\n",
    "\n",
    "   4.0 squared is 16.0\n",
    "   ```"
   ]
  },
  {
   "cell_type": "code",
   "execution_count": 6,
   "metadata": {},
   "outputs": [
    {
     "name": "stdout",
     "output_type": "stream",
     "text": [
      "4.0 squared is 16.0\n"
     ]
    }
   ],
   "source": [
    "def square_number() ->None :\n",
    "    number : float = float(input(\"Type a number to see its square: \"))\n",
    "    square : float = number * number\n",
    "    print(f\"{number} squared is {square}\")\n",
    "square_number()    "
   ]
  },
  {
   "cell_type": "markdown",
   "metadata": {},
   "source": [
    "### Question 6: Delete a number\n",
    "Consider a list named `numbers` with the elements `[1, 2, 3, 4, 5]`. Use a list method to delete the number 3.\n"
   ]
  },
  {
   "cell_type": "code",
   "execution_count": 7,
   "metadata": {},
   "outputs": [
    {
     "name": "stdout",
     "output_type": "stream",
     "text": [
      "Updated list after removing 3: [1, 2, 4, 5]\n"
     ]
    }
   ],
   "source": [
    "def delete_a_number() ->None:\n",
    "    numbers : list[int] = [1, 2, 3, 4, 5]\n",
    "    numbers.remove(3)\n",
    "    print(f\"Updated list after removing 3: {numbers}\")\n",
    "delete_a_number()    "
   ]
  },
  {
   "cell_type": "markdown",
   "metadata": {},
   "source": [
    "### Question 7: Creating a list\n",
    "You have two lists:\n",
    "- `list1` with elements `[1, 2, 3]`\n",
    "- `list2` with elements `[4, 5, 6]`\n",
    "Create a program using a list method to add the elements of `list2` to `list1`.\n"
   ]
  },
  {
   "cell_type": "code",
   "execution_count": 8,
   "metadata": {},
   "outputs": [
    {
     "name": "stdout",
     "output_type": "stream",
     "text": [
      "Combined list: [1, 2, 3, 4, 5, 6]\n"
     ]
    }
   ],
   "source": [
    "def create_a_list() ->None :\n",
    "    list1 :list[int] = [1, 2, 3]\n",
    "    list2 :list[int] = [4, 5, 6]\n",
    "    list1.extend(list2)\n",
    "    print(f\"Combined list: {list1}\")\n",
    "create_a_list()    "
   ]
  },
  {
   "cell_type": "markdown",
   "metadata": {},
   "source": [
    "### Question 8: Pop method\n",
    "You have a list named `items` with the elements `[10, 20, 30, 40]`. If you use the `pop` method without any arguments, what will the list look like and what value will be removed?\n"
   ]
  },
  {
   "cell_type": "code",
   "execution_count": 9,
   "metadata": {},
   "outputs": [
    {
     "name": "stdout",
     "output_type": "stream",
     "text": [
      "Updated list: [10, 20, 30]\n",
      "Removed item: 40\n"
     ]
    }
   ],
   "source": [
    "def pop_method() ->None:\n",
    "    items :list[int] = [10, 20, 30, 40]\n",
    "    removed_item :int = items.pop()\n",
    "    print(f\"Updated list: {items}\")\n",
    "    print(f\"Removed item: {removed_item}\")\n",
    "pop_method()    "
   ]
  },
  {
   "cell_type": "markdown",
   "metadata": {},
   "source": [
    "### Question 9: Index Method\n",
    "You have a list called `colors` with the elements `['red', 'blue', 'green', 'yellow']`. If you use the `index` method to find the position of 'green', what will the index be?\n"
   ]
  },
  {
   "cell_type": "code",
   "execution_count": 10,
   "metadata": {},
   "outputs": [
    {
     "name": "stdout",
     "output_type": "stream",
     "text": [
      "Index of 'green': 2\n"
     ]
    }
   ],
   "source": [
    "def index_method() ->None:\n",
    "    colors :list[str] = ['red', 'blue', 'green', 'yellow']\n",
    "    green_index :int= colors.index('green')\n",
    "    print(f\"Index of 'green': {green_index}\")\n",
    "index_method()    "
   ]
  },
  {
   "cell_type": "markdown",
   "metadata": {},
   "source": [
    "## Challenge Questions\n",
    "\n",
    "### Question 10: Get last element\n",
    "Fill out the function `get_last_element(lst)` which takes in a list `lst` as a parameter and prints the last element in the list. The list is guaranteed to be non-empty, but there are no guarantees on its length.\n"
   ]
  },
  {
   "cell_type": "code",
   "execution_count": 1,
   "metadata": {},
   "outputs": [
    {
     "name": "stdout",
     "output_type": "stream",
     "text": [
      "The last element is apple\n"
     ]
    }
   ],
   "source": [
    "from typing import Any\n",
    "def get_last_element(lst:list[Any])->None:\n",
    "    print(f\"The last element is {lst[-1]}\")\n",
    "get_last_element([3,3,4,'apple'])    "
   ]
  },
  {
   "cell_type": "markdown",
   "metadata": {},
   "source": [
    "### Question 11: Get a List\n",
    "Write a program which continuously asks the user to enter values which are added one by one into a list. When the user presses enter without typing anything, print the list.\n",
    "\n",
    "    Here's a sample run (user input is in blue):\n",
    "\n",
    "    ```\n",
    "    Enter a value: 1\n",
    "    Enter a value: 2\n",
    "    Enter a value: 3\n",
    "    Enter a value:\n",
    "    Here's the list: ['1', '2', '3']\n",
    "    ```"
   ]
  },
  {
   "cell_type": "code",
   "execution_count": 5,
   "metadata": {},
   "outputs": [
    {
     "name": "stdout",
     "output_type": "stream",
     "text": [
      "Here's the list: [1, 2, 3]\n"
     ]
    }
   ],
   "source": [
    "from typing import Any,Optional\n",
    "def get_a_list() ->None:\n",
    "    values:list[Optional[int]] = []\n",
    "    while True:\n",
    "        value:Any = input(\"Enter a value: \")\n",
    "        if value == \"\":\n",
    "            break\n",
    "        value_in_number:int = int(value)\n",
    "        values.append(value_in_number)\n",
    "    print(f\"Here's the list: {values}\")\n",
    "    \n",
    "get_a_list()    "
   ]
  }
 ],
 "metadata": {
  "kernelspec": {
   "display_name": "Python 3",
   "language": "python",
   "name": "python3"
  },
  "language_info": {
   "codemirror_mode": {
    "name": "ipython",
    "version": 3
   },
   "file_extension": ".py",
   "mimetype": "text/x-python",
   "name": "python",
   "nbconvert_exporter": "python",
   "pygments_lexer": "ipython3",
   "version": "3.12.3"
  }
 },
 "nbformat": 4,
 "nbformat_minor": 2
}
