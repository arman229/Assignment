{
 "cells": [
  {
   "cell_type": "markdown",
   "metadata": {},
   "source": [
    "# Python Programming Assignment 04\n",
    "Instructions: Implement Python programs to accomplish the following task\n",
    "\n",
    "Task\n",
    "\n",
    "You are tasked with creating a Python program that serves as an interactive tool for a friend who enjoys exploring numbers. The program should begin by prompting the user to enter their name and then ask them for three of their favorite numbers. After gathering this information, the program should greet the user with a personalized message that includes their name. The three numbers provided by the user should be stored in a list. The program should then check if any of the numbers are even or odd, and store this information in a separate list of tuples, where each tuple contains the number and a string indicating whether it is \"even\" or \"odd\". Following this, the program should use a for loop to iterate over the list of numbers, and for each number, it should create a tuple containing the number and its square. These tuples should be printed in a creative and engaging format. Additionally, the program should calculate the sum of the three numbers and print the result, accompanied by an encouraging message. Finally, the program should determine if the sum is a prime number and notify the user with an appropriate message. The goal is to make the tool both enjoyable and informative, allowing the user to explore their favorite numbers in a fun and interactive way, while also introducing some interesting logical checks."
   ]
  },
  {
   "cell_type": "code",
   "execution_count": 1,
   "metadata": {},
   "outputs": [
    {
     "name": "stdout",
     "output_type": "stream",
     "text": [
      "\n",
      "Hello, Arman! Let's explore your favorite numbers:\n",
      "\n",
      "Enter your first favorite number: 2 \n",
      "Enter your second favorite number: 3 \n",
      "Enter your third favorite number: 4\n",
      "The number 2 is even.\n",
      "The number 3 is odd.\n",
      "The number 4 is even.\n",
      "The number 2 and its square: (2, 4)\n",
      "The number 3 and its square: (3, 9)\n",
      "The number 4 and its square: (4, 16)\n",
      "\n",
      "Amazing! The sum of your favorite numbers is: 9\n",
      "The sum 9 is not a prime number.\n"
     ]
    }
   ],
   "source": [
    "def is_prime(n: int) -> bool:\n",
    "    if n <= 1:\n",
    "        return False\n",
    "    if n == 2:\n",
    "        return True\n",
    "    if n % 2 == 0:\n",
    "        return False\n",
    "    for i in range(3, int(n**0.5) + 1, 2):\n",
    "        if n % i == 0:\n",
    "            return False\n",
    "    return True \n",
    "\n",
    "def even_or_odd(n: int) -> str:\n",
    "    return \"even\" if n % 2 == 0 else \"odd\"\n",
    "\n",
    "def favorite_number() -> None: \n",
    "    name: str = input(\"Enter your name: \")\n",
    "    num1: int = int(input(\"Enter your first favorite number: \"))\n",
    "    num2: int = int(input(\"Enter your second favorite number: \"))\n",
    "    num3: int = int(input(\"Enter your third favorite number: \"))\n",
    "    \n",
    "    print(f\"\\nHello, {name}! Let's explore your favorite numbers:\")\n",
    "    print(f\"\\nEnter your first favorite number: {num1} \\nEnter your second favorite number: {num2} \\nEnter your third favorite number: {num3}\") \n",
    "    \n",
    "    numbers: list[int] = [num1, num2, num3] \n",
    "    \n",
    "    even_odd_list: list[tuple[int, str]] = [(num, even_or_odd(num)) for num in numbers] \n",
    "    for num, eo in even_odd_list:\n",
    "        print(f\"The number {num} is {eo}.\")\n",
    " \n",
    "    for num in numbers:\n",
    "        print(f\"The number {num} and its square: ({num}, {num ** 2})\")\n",
    "     \n",
    "    total_sum: int = sum(numbers)\n",
    "    print(f\"\\nAmazing! The sum of your favorite numbers is: {total_sum}\")\n",
    " \n",
    "    if is_prime(total_sum):\n",
    "        print(f\"Wow, {total_sum} is a prime number!\")\n",
    "    else:\n",
    "        print(f\"The sum {total_sum} is not a prime number.\")\n",
    "\n",
    "favorite_number()\n"
   ]
  }
 ],
 "metadata": {
  "kernelspec": {
   "display_name": "Python 3",
   "language": "python",
   "name": "python3"
  },
  "language_info": {
   "codemirror_mode": {
    "name": "ipython",
    "version": 3
   },
   "file_extension": ".py",
   "mimetype": "text/x-python",
   "name": "python",
   "nbconvert_exporter": "python",
   "pygments_lexer": "ipython3",
   "version": "3.12.3"
  }
 },
 "nbformat": 4,
 "nbformat_minor": 2
}
