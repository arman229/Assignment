{
 "cells": [
  {
   "cell_type": "markdown",
   "metadata": {},
   "source": [
    "**<span style=\"color: green; font-weight: bold;\">Instructions:</span> Implement Python programs to accomplish the following tasks**"
   ]
  },
  {
   "cell_type": "markdown",
   "metadata": {},
   "source": [
    "\n",
    "\n",
    "1. **Age Assignments Based on the Riddle**\n",
    "\n",
    "   - **Problem Statement:** Write a program to solve this age-related riddle!\n",
    "     Anton, Beth, Chen, Drew, and Ethan are all friends. Their ages are as follows:\n",
    "     - Anton is 21 years old.\n",
    "     - Beth is 6 years older than Anton.\n",
    "     - Chen is 20 years older than Beth.\n",
    "     - Drew is as old as Chen's age plus Anton's age.\n",
    "     - Ethan is the same age as Chen.\n",
    "   - Your code should store each person's age to a variable and print their names and ages at the end.\n",
    "     ```python\n",
    "     Anton is 3\n",
    "     Beth is 4\n",
    "     Chen is 5\n",
    "     Drew is 6\n",
    "     Ethan is 7\n",
    "     ```"
   ]
  },
  {
   "cell_type": "code",
   "execution_count": 16,
   "metadata": {},
   "outputs": [
    {
     "name": "stdout",
     "output_type": "stream",
     "text": [
      "Anton is 21 years old\n",
      "Beth is 27 years old\n",
      "Chen is 47 years old\n",
      "Drew is 68 years old\n",
      "Ethan is 47 years old\n"
     ]
    }
   ],
   "source": [
    "# Age Assignment\n",
    "anton_age:int = 21\n",
    "beth_age:int = anton_age + 6\n",
    "chen_age:int = beth_age + 20\n",
    "drew_age:int = chen_age + anton_age\n",
    "ethan_age:int = chen_age\n",
    "\n",
    "print(f\"Anton is {anton_age} years old\")\n",
    "print(f\"Beth is {beth_age} years old\")\n",
    "print(f\"Chen is {chen_age} years old\")\n",
    "print(f\"Drew is {drew_age} years old\")\n",
    "print(f\"Ethan is {ethan_age} years old\")\n"
   ]
  },
  {
   "cell_type": "markdown",
   "metadata": {},
   "source": [
    "2. **Formatted String Interpolation**\n",
    "\n",
    "   - **Task:** Given the variables `name`, `age`, and `city`, use f-strings to construct a sentence that describes a person using these variables.\n",
    "     ```python\n",
    "     name:str = \"Alice\"\n",
    "     age:int = 30\n",
    "     city:str = \"New York\"\n",
    "     ```\n",
    "   - **Instructions:** Use an f-string to create a sentence in the format: `\"Alice is 30 years old and lives in New York.\"`\n",
    "   - **Expected Output:**\n",
    "     ```\n",
    "     Alice is 30 years old and lives in New York."
   ]
  },
  {
   "cell_type": "code",
   "execution_count": 17,
   "metadata": {},
   "outputs": [
    {
     "name": "stdout",
     "output_type": "stream",
     "text": [
      "Alice is 30 years old and lives in New York.\n"
     ]
    }
   ],
   "source": [
    "# Formatted String Interpolation\n",
    "name:str = \"Alice\"\n",
    "age:int = 30\n",
    "city:str = \"New York\"\n",
    "\n",
    "sentence = f\"{name} is {age} years old and lives in {city}.\"\n",
    "print(sentence)\n"
   ]
  },
  {
   "cell_type": "markdown",
   "metadata": {},
   "source": [
    "3. **String Manipulation**\n",
    "\n",
    "   - **Task:** Given the string `s`, use string methods to:\n",
    "     - **Capitalize the first letter:** make the first character uppercase and the rest of the string lowercase.\n",
    "     - **Convert to uppercase:** change all characters in the string to uppercase.\n",
    "     - **Convert to lowercase:** change all characters in the string to lowercase.\n",
    "     ```python\n",
    "     s:str = \"hElLo WoRlD\"\n",
    "     ```\n",
    "   - **Expected Output:**\n",
    "     ```\n",
    "     Hello world\n",
    "     HELLO WORLD\n",
    "     hello world\n",
    "     ```"
   ]
  },
  {
   "cell_type": "code",
   "execution_count": 18,
   "metadata": {},
   "outputs": [
    {
     "name": "stdout",
     "output_type": "stream",
     "text": [
      "Hello world\n",
      "HELLO WORLD\n",
      "hello world\n"
     ]
    }
   ],
   "source": [
    "# String Manipulation\n",
    "s:str = \"hElLo WoRlD\"\n",
    "\n",
    "capitalized:str = s.capitalize()\n",
    "uppercase:str = s.upper()\n",
    "lowercase:str = s.lower()\n",
    "\n",
    "print(capitalized)\n",
    "print(uppercase)\n",
    "print(lowercase)\n"
   ]
  },
  {
   "cell_type": "markdown",
   "metadata": {},
   "source": [
    "4. **Substring Search**\n",
    "\n",
    "   - **Task:** Given the string `s`, use string methods to:\n",
    "     - **Find the index of \"fox\":** get the starting index of the substring \"fox\". If \"fox\" is not found, it should return -1.\n",
    "     - **Count occurrences of \"the\":** Use the string's built-in method to count how many times the substring \"the\" appears in the string.\n",
    "     ```python\n",
    "     s:str =\"the quick brown fox jumps over the lazy dog\"\n",
    "     ```\n",
    "   - **Expected Output:**\n",
    "     ```\n",
    "     index of 'fox' is 16\n",
    "     'the' appears 2 times\n",
    "     ```"
   ]
  },
  {
   "cell_type": "code",
   "execution_count": 19,
   "metadata": {},
   "outputs": [
    {
     "name": "stdout",
     "output_type": "stream",
     "text": [
      "Index of 'fox' is 16\n",
      "'the' appears 2 times\n"
     ]
    }
   ],
   "source": [
    "# Substring Search\n",
    "s:str = \"the quick brown fox jumps over the lazy dog\"\n",
    "\n",
    "index_of_fox:int = s.find(\"fox\")\n",
    "count_of_the:int = s.count(\"the\")\n",
    "\n",
    "print(f\"Index of 'fox' is {index_of_fox}\")\n",
    "print(f\"'the' appears {count_of_the} times\")\n"
   ]
  },
  {
   "cell_type": "markdown",
   "metadata": {},
   "source": [
    "5. **String Replacement**\n",
    "\n",
    "   - **Task:** Given the string `s`, use string methods to:\n",
    "     - **Replace \"Python\" with \"Java\":** substitute \"Python\" with \"Java\".\n",
    "     ```python\n",
    "     s:str =\"I love programming in Python\"\n",
    "     ```\n",
    "   - **Expected Output:**\n",
    "     ```\n",
    "     I love programming in Java"
   ]
  },
  {
   "cell_type": "code",
   "execution_count": 20,
   "metadata": {},
   "outputs": [
    {
     "name": "stdout",
     "output_type": "stream",
     "text": [
      "I love programming in Java\n"
     ]
    }
   ],
   "source": [
    "# String Replacement\n",
    "s:str = \"I love programming in Python\"\n",
    "replaced_string:str= s.replace(\"Python\", \"Java\")\n",
    "\n",
    "print(replaced_string)\n"
   ]
  },
  {
   "cell_type": "markdown",
   "metadata": {},
   "source": [
    "6. **String Splitting and Joining**\n",
    "\n",
    "   - **Task:** Given the string `s`, use string methods to:\n",
    "     - **Split into a list:** break the string into a list of substrings based on the delimiter `,`.\n",
    "     - **Join with spaces:** combine the list of substrings back into a single string, with each element separated by a space.\n",
    "     ```python\n",
    "     s:str =\"apple,banana,cherry,dates\"\n",
    "     ```\n",
    "   - **Expected Output:**\n",
    "     ```\n",
    "     [\"apple\", \"banana\", \"cherry\", \"dates\"]\n",
    "     apple banana cherry dates"
   ]
  },
  {
   "cell_type": "code",
   "execution_count": 21,
   "metadata": {},
   "outputs": [
    {
     "name": "stdout",
     "output_type": "stream",
     "text": [
      "['apple', 'banana', 'cherry', 'dates']\n",
      "apple banana cherry dates\n"
     ]
    }
   ],
   "source": [
    "from typing import List,Tuple\n",
    "\n",
    "def split_and_join(s: str) -> Tuple[List[str], str]: \n",
    "    substrings:List[str] = s.split(',') \n",
    "    joined_string:str = ' '.join(substrings) \n",
    "    return substrings, joined_string \n",
    "s: str = \"apple,banana,cherry,dates\"\n",
    "substrings, joined_string = split_and_join(s)\n",
    "\n",
    "print(substrings)\n",
    "print(joined_string)\n"
   ]
  },
  {
   "cell_type": "markdown",
   "metadata": {},
   "source": [
    "7. **String Stripping and Justifying**\n",
    "\n",
    "   - **Task:** Given the string `s`, use string methods to:\n",
    "     - **Remove leading/trailing spaces:** remove all leading and trailing whitespace characters from the string.\n",
    "     - **Left justify with '\\*':** left justify the string within a field of width 20, using `*` as the fill character.\n",
    "     - **Right justify with '\\*':** right justify the string within a field of width 20, using `*` as the fill character.\n",
    "     ```python\n",
    "     s:str =\"   Python is fun!   \"\n",
    "     ```\n",
    "   - **Expected Output:**\n",
    "     ```\n",
    "     Python is fun!\n",
    "     Python is fun!*****\n",
    "     *****Python is fun!"
   ]
  },
  {
   "cell_type": "code",
   "execution_count": 22,
   "metadata": {},
   "outputs": [
    {
     "name": "stdout",
     "output_type": "stream",
     "text": [
      "Python is fun!\n",
      "Python is fun!******\n",
      "******Python is fun!\n"
     ]
    }
   ],
   "source": [
    "# String Stripping and Justifying\n",
    "s:str = \"   Python is fun!   \"\n",
    "\n",
    "stripped_string:str = s.strip()\n",
    "left_justified:str = stripped_string.ljust(20, '*')\n",
    "right_justified:str = stripped_string.rjust(20, '*')\n",
    "\n",
    "print(stripped_string)\n",
    "print(left_justified)\n",
    "print(right_justified)\n"
   ]
  },
  {
   "cell_type": "markdown",
   "metadata": {},
   "source": [
    "8. **Convert an integer to its binary representation**\n",
    "\n",
    "   - **Task:** Given an integer `num`\n",
    "     - Obtain the binary representation of `num`\n",
    "     ```python\n",
    "     num:int = 45\n",
    "     ```\n",
    "   - **Expected Output:**\n",
    "     ```\n",
    "     Binary representation : 0b101101\n",
    "     ```"
   ]
  },
  {
   "cell_type": "code",
   "execution_count": 23,
   "metadata": {},
   "outputs": [
    {
     "name": "stdout",
     "output_type": "stream",
     "text": [
      "Binary representation : 0b101101  \n"
     ]
    }
   ],
   "source": [
    "# Convert an Integer to Binary\n",
    "num = 45\n",
    "binary_representation:str = bin(num)\n",
    "\n",
    "print(f\"Binary representation : {binary_representation}  \")\n"
   ]
  },
  {
   "cell_type": "markdown",
   "metadata": {},
   "source": [
    "9. **Calculate Powers of Numbers.**\n",
    "\n",
    "   - **Task:** Given two integers `base` and `exponent`\n",
    "     - Compute `base` raised to the power of `exponent`.\n",
    "     ```python\n",
    "     base:int = 3\n",
    "     exponent:int = 4\n",
    "     ```\n",
    "   - **Expected Output:**\n",
    "     ```\n",
    "     Power result: 81"
   ]
  },
  {
   "cell_type": "code",
   "execution_count": 24,
   "metadata": {},
   "outputs": [
    {
     "name": "stdout",
     "output_type": "stream",
     "text": [
      "Power result: 81\n"
     ]
    }
   ],
   "source": [
    "# Calculate Powers of Numbers\n",
    "base:int = 3\n",
    "exponent:int = 4\n",
    "power_result:int = base ** exponent\n",
    "\n",
    "print(f\"Power result: {power_result}\")\n"
   ]
  },
  {
   "cell_type": "markdown",
   "metadata": {},
   "source": [
    "\n",
    "10. **Round floating-point numbers**\n",
    "\n",
    "    - **Task:** Given a floating-point number `value`\n",
    "      - Round `value` to the nearest integer.\n",
    "      - Round `value` to two decimal places.\n",
    "      ```python\n",
    "      value:float = 12.34567\n",
    "      ```\n",
    "    - **Expected Output:**\n",
    "      ```\n",
    "      Rounded to nearest integer: 12\n",
    "      Rounded to two decimal places: 12.35"
   ]
  },
  {
   "cell_type": "code",
   "execution_count": 25,
   "metadata": {},
   "outputs": [
    {
     "name": "stdout",
     "output_type": "stream",
     "text": [
      "Rounded to nearest integer: 12\n",
      "Rounded to two decimal places: 12.35\n"
     ]
    }
   ],
   "source": [
    "# Round Floating-Point Numbers\n",
    "value:float = 12.34567\n",
    "rounded_to_integer:int = round(value)\n",
    "rounded_to_two_decimal:float = round(value, 2)\n",
    "\n",
    "print(f\"Rounded to nearest integer: { rounded_to_integer}\")\n",
    "print(f\"Rounded to two decimal places: {rounded_to_two_decimal}\")\n"
   ]
  }
 ],
 "metadata": {
  "kernelspec": {
   "display_name": "Python 3",
   "language": "python",
   "name": "python3"
  },
  "language_info": {
   "codemirror_mode": {
    "name": "ipython",
    "version": 3
   },
   "file_extension": ".py",
   "mimetype": "text/x-python",
   "name": "python",
   "nbconvert_exporter": "python",
   "pygments_lexer": "ipython3",
   "version": "3.12.3"
  }
 },
 "nbformat": 4,
 "nbformat_minor": 2
}
