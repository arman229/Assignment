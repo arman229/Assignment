{
 "cells": [
  {
   "cell_type": "code",
   "execution_count": 1,
   "metadata": {},
   "outputs": [
    {
     "name": "stdout",
     "output_type": "stream",
     "text": [
      "2345933507952\n",
      "2345933507952\n"
     ]
    }
   ],
   "source": [
    "name:str='pakistan'\n",
    "name1:str = 'pakistan'\n",
    "print(id(name)) \n",
    "print(id(name1)) # physcial address"
   ]
  },
  {
   "cell_type": "code",
   "execution_count": 2,
   "metadata": {},
   "outputs": [
    {
     "name": "stdout",
     "output_type": "stream",
     "text": [
      "2345933507952\n",
      "2345933507952\n"
     ]
    }
   ],
   "source": [
    "name:str='pakistan'\n",
    "name1:str = 'pakistan'\n",
    "print(id(name)) \n",
    "print(id(name1)) # physcial address"
   ]
  }
 ],
 "metadata": {
  "kernelspec": {
   "display_name": "src-b2nQvZKm-py3.12",
   "language": "python",
   "name": "python3"
  },
  "language_info": {
   "codemirror_mode": {
    "name": "ipython",
    "version": 3
   },
   "file_extension": ".py",
   "mimetype": "text/x-python",
   "name": "python",
   "nbconvert_exporter": "python",
   "pygments_lexer": "ipython3",
   "version": "3.12.3"
  }
 },
 "nbformat": 4,
 "nbformat_minor": 2
}
